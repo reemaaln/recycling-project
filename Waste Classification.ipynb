{
 "cells": [
  {
   "cell_type": "markdown",
   "id": "07fde9ed",
   "metadata": {},
   "source": [
    "# Project Proposal: Waste Classification"
   ]
  },
  {
   "cell_type": "markdown",
   "id": "33baa0a0",
   "metadata": {},
   "source": [
    "Author name: Reema Alnafisi\n",
    "\n",
    "Submission date: 7/11/2021"
   ]
  },
  {
   "cell_type": "markdown",
   "id": "a6dc95e8",
   "metadata": {},
   "source": [
    "## Overview"
   ]
  },
  {
   "cell_type": "markdown",
   "id": "e4341e91",
   "metadata": {},
   "source": [
    "Waste is a significant global issue. Increasing volumes of waste are being generated as the global population and living standards rise. People are increasingly concerned about the production of waste and its effect, and are seeking ways to deal with the problem.\n",
    "Recycling is the process of converting waste materials into new materials and objects. Recycling can prevent the waste of potentially useful materials and reduce the consumption of fresh raw materials, thereby reducing: energy usage, air pollution (from incineration), and water pollution (from landfilling).\n",
    "\n",
    "We can contibute in the solution of this issue using machine learning. Some suggested approaches include:\n",
    "- Studying white papers on waste management.\n",
    "- Analysing te components of household waste.\n",
    "- Separating organic and recycable wastes into classes.\n",
    "- Automating the process using IoT and machine learning.\n",
    "\n",
    "Such approaches may help in making the recycling process easier."
   ]
  },
  {
   "cell_type": "markdown",
   "id": "dd03c598",
   "metadata": {},
   "source": [
    "## The Data"
   ]
  },
  {
   "cell_type": "markdown",
   "id": "50da2928",
   "metadata": {},
   "source": [
    "The dataset was obtained from kaggle, and it is divided into training data (85%) and testing data (25%) where the training data contains 22564 images and the testing data contains 2513 images.\n",
    "\n",
    "The model should predict if the waste represented in the image is organic or recycable."
   ]
  },
  {
   "cell_type": "markdown",
   "id": "cea01bad",
   "metadata": {},
   "source": [
    "## Purpose"
   ]
  },
  {
   "cell_type": "markdown",
   "id": "dfaed8ac",
   "metadata": {},
   "source": [
    "This project aims to classify the waste as organic or recycable to help reduce the pollution caused by wastes.\n",
    "\n",
    "The classification of wastes will help the workers whi handle the wastes' disposal. Also, the impact of this project might benefit governments worlwide."
   ]
  },
  {
   "cell_type": "markdown",
   "id": "d2f3f0d1",
   "metadata": {},
   "source": [
    "## Tools"
   ]
  },
  {
   "cell_type": "markdown",
   "id": "c895b0f3",
   "metadata": {},
   "source": [
    "To start with, I am planning on using the convolutional neural network approach. However, changes may be made during implementation."
   ]
  },
  {
   "cell_type": "code",
   "execution_count": null,
   "id": "3cd10b7d",
   "metadata": {},
   "outputs": [],
   "source": []
  }
 ],
 "metadata": {
  "kernelspec": {
   "display_name": "Python 3 (ipykernel)",
   "language": "python",
   "name": "python3"
  },
  "language_info": {
   "codemirror_mode": {
    "name": "ipython",
    "version": 3
   },
   "file_extension": ".py",
   "mimetype": "text/x-python",
   "name": "python",
   "nbconvert_exporter": "python",
   "pygments_lexer": "ipython3",
   "version": "3.8.11"
  }
 },
 "nbformat": 4,
 "nbformat_minor": 5
}
